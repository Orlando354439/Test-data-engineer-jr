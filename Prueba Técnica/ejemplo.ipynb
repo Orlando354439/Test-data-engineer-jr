{
 "cells": [
  {
   "cell_type": "code",
   "execution_count": 5,
   "metadata": {},
   "outputs": [
    {
     "name": "stdout",
     "output_type": "stream",
     "text": [
      "         ID_Pasajero           Pasajero  Edad\n",
      "2016 0           576  Danielle Thompson    60\n",
      "     1           579     Natalie Cuevas    49\n",
      "     2           683        John Murray    28\n",
      "     3           681     Michael Jacobs    24\n",
      "     4           592         Brian Hunt    40\n",
      "...              ...                ...   ...\n",
      "2017 95          709   Daniel Rodriguez    49\n",
      "     96          717          Chad Wise    69\n",
      "     97          717      Billy Whitney    37\n",
      "     98          715      Justin Martin    48\n",
      "     99          729      Kendra Daniel    59\n",
      "\n",
      "[200 rows x 3 columns]\n"
     ]
    }
   ],
   "source": [
    "import pandas as pd\n",
    "import numpy as np\n",
    "\n",
    "\n",
    "Vuelos2016 = pd.read_csv('vuelos2016.csv')\n",
    "Vuelos2017 = pd.read_csv('vuelos2017.csv')\n",
    "Pasajeros2016 = pd.read_csv('pasajeros2016.csv')\n",
    "Pasajeros2017 = pd.read_csv('pasajeros2017.csv')\n",
    "\n",
    "UniónDatos = {\n",
    "    'Vuelos': {\n",
    "        '2016':Vuelos2016, \n",
    "        '2017': Vuelos2017 \n",
    "    },\n",
    "\n",
    "    'Pasajeros': {\n",
    "        '2016': Pasajeros2016, \n",
    "        '2017': Pasajeros2017 \n",
    "    }\n",
    "}\n",
    "\n",
    "print(pd.concat(UniónDatos['Pasajeros']))"
   ]
  }
 ],
 "metadata": {
  "kernelspec": {
   "display_name": "base",
   "language": "python",
   "name": "python3"
  },
  "language_info": {
   "codemirror_mode": {
    "name": "ipython",
    "version": 3
   },
   "file_extension": ".py",
   "mimetype": "text/x-python",
   "name": "python",
   "nbconvert_exporter": "python",
   "pygments_lexer": "ipython3",
   "version": "3.11.7"
  }
 },
 "nbformat": 4,
 "nbformat_minor": 2
}
